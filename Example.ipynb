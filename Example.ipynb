{
 "cells": [
  {
   "cell_type": "code",
   "execution_count": 1,
   "metadata": {},
   "outputs": [],
   "source": [
    "from FunkSVD import FunkSVD\n",
    "import pandas as pd\n",
    "\n",
    "data = pd.read_csv('./data/prepared_data.csv', index_col=0)\n"
   ]
  },
  {
   "cell_type": "code",
   "execution_count": 2,
   "metadata": {},
   "outputs": [
    {
     "data": {
      "text/html": [
       "<div>\n",
       "<style scoped>\n",
       "    .dataframe tbody tr th:only-of-type {\n",
       "        vertical-align: middle;\n",
       "    }\n",
       "\n",
       "    .dataframe tbody tr th {\n",
       "        vertical-align: top;\n",
       "    }\n",
       "\n",
       "    .dataframe thead th {\n",
       "        text-align: right;\n",
       "    }\n",
       "</style>\n",
       "<table border=\"1\" class=\"dataframe\">\n",
       "  <thead>\n",
       "    <tr style=\"text-align: right;\">\n",
       "      <th></th>\n",
       "      <th>userId</th>\n",
       "      <th>tmdbId</th>\n",
       "      <th>rating</th>\n",
       "    </tr>\n",
       "  </thead>\n",
       "  <tbody>\n",
       "    <tr>\n",
       "      <th>0</th>\n",
       "      <td>1</td>\n",
       "      <td>862.0</td>\n",
       "      <td>4.0</td>\n",
       "    </tr>\n",
       "    <tr>\n",
       "      <th>1</th>\n",
       "      <td>5</td>\n",
       "      <td>862.0</td>\n",
       "      <td>4.0</td>\n",
       "    </tr>\n",
       "    <tr>\n",
       "      <th>2</th>\n",
       "      <td>7</td>\n",
       "      <td>862.0</td>\n",
       "      <td>4.5</td>\n",
       "    </tr>\n",
       "    <tr>\n",
       "      <th>3</th>\n",
       "      <td>15</td>\n",
       "      <td>862.0</td>\n",
       "      <td>2.5</td>\n",
       "    </tr>\n",
       "    <tr>\n",
       "      <th>4</th>\n",
       "      <td>17</td>\n",
       "      <td>862.0</td>\n",
       "      <td>4.5</td>\n",
       "    </tr>\n",
       "  </tbody>\n",
       "</table>\n",
       "</div>"
      ],
      "text/plain": [
       "   userId  tmdbId  rating\n",
       "0       1   862.0     4.0\n",
       "1       5   862.0     4.0\n",
       "2       7   862.0     4.5\n",
       "3      15   862.0     2.5\n",
       "4      17   862.0     4.5"
      ]
     },
     "execution_count": 2,
     "metadata": {},
     "output_type": "execute_result"
    }
   ],
   "source": [
    "data.head()"
   ]
  },
  {
   "cell_type": "code",
   "execution_count": 3,
   "metadata": {},
   "outputs": [],
   "source": [
    "myFunk= FunkSVD()"
   ]
  },
  {
   "cell_type": "code",
   "execution_count": 4,
   "metadata": {},
   "outputs": [],
   "source": [
    "myFunk.set_hyperparameters(max_epoch=300, early_stopping=5, n_latent=45)"
   ]
  },
  {
   "cell_type": "code",
   "execution_count": 5,
   "metadata": {
    "scrolled": false
   },
   "outputs": [
    {
     "name": "stdout",
     "output_type": "stream",
     "text": [
      "Your data has 610 distinct users and 2087 distinct items.\n",
      "Your data has been split into train and test set.\n",
      "Length of training set is 58850. Length of Test set is 7063\n",
      "Initializing features for Users and Items...\n",
      "Starting training...\n",
      "Epoch Number: 1/300 Training RMSE: 1.06 Test RMSE: 1.1207558755408469\n",
      "Epoch Number: 2/300 Training RMSE: 0.92 Test RMSE: 0.9856109924388753\n",
      "Epoch Number: 3/300 Training RMSE: 0.86 Test RMSE: 0.9296606051145528\n",
      "Epoch Number: 4/300 Training RMSE: 0.82 Test RMSE: 0.9015915842101844\n",
      "Epoch Number: 5/300 Training RMSE: 0.80 Test RMSE: 0.8854913649593008\n",
      "Epoch Number: 6/300 Training RMSE: 0.79 Test RMSE: 0.8751182032928263\n",
      "Epoch Number: 7/300 Training RMSE: 0.77 Test RMSE: 0.8677544446449722\n",
      "Epoch Number: 8/300 Training RMSE: 0.76 Test RMSE: 0.8621038690908632\n",
      "Epoch Number: 9/300 Training RMSE: 0.75 Test RMSE: 0.8574948162634338\n",
      "Epoch Number: 10/300 Training RMSE: 0.74 Test RMSE: 0.8535549475566664\n",
      "Epoch Number: 11/300 Training RMSE: 0.74 Test RMSE: 0.8500674984186172\n",
      "Epoch Number: 12/300 Training RMSE: 0.73 Test RMSE: 0.8469024722971563\n",
      "Epoch Number: 13/300 Training RMSE: 0.72 Test RMSE: 0.8439810581059038\n",
      "Epoch Number: 14/300 Training RMSE: 0.72 Test RMSE: 0.8412557619486444\n",
      "Epoch Number: 15/300 Training RMSE: 0.71 Test RMSE: 0.8386984529270146\n",
      "Epoch Number: 16/300 Training RMSE: 0.70 Test RMSE: 0.8362927079400387\n",
      "Epoch Number: 17/300 Training RMSE: 0.70 Test RMSE: 0.8340287395333511\n",
      "Epoch Number: 18/300 Training RMSE: 0.69 Test RMSE: 0.8319000568945991\n",
      "Epoch Number: 19/300 Training RMSE: 0.68 Test RMSE: 0.8299013822754415\n",
      "Epoch Number: 20/300 Training RMSE: 0.68 Test RMSE: 0.8280274892211508\n",
      "Epoch Number: 21/300 Training RMSE: 0.67 Test RMSE: 0.8262726867401174\n",
      "Epoch Number: 22/300 Training RMSE: 0.67 Test RMSE: 0.824630714591224\n",
      "Epoch Number: 23/300 Training RMSE: 0.66 Test RMSE: 0.823094862863086\n",
      "Epoch Number: 24/300 Training RMSE: 0.66 Test RMSE: 0.8216581828059056\n",
      "Epoch Number: 25/300 Training RMSE: 0.65 Test RMSE: 0.8203137063707193\n",
      "Epoch Number: 26/300 Training RMSE: 0.65 Test RMSE: 0.8190546319053773\n",
      "Epoch Number: 27/300 Training RMSE: 0.64 Test RMSE: 0.8178744605883568\n",
      "Epoch Number: 28/300 Training RMSE: 0.64 Test RMSE: 0.8167670838927868\n",
      "Epoch Number: 29/300 Training RMSE: 0.64 Test RMSE: 0.8157268297793271\n",
      "Epoch Number: 30/300 Training RMSE: 0.63 Test RMSE: 0.8147484775710733\n",
      "Epoch Number: 31/300 Training RMSE: 0.63 Test RMSE: 0.8138272509964384\n",
      "Epoch Number: 32/300 Training RMSE: 0.63 Test RMSE: 0.8129587972711292\n",
      "Epoch Number: 33/300 Training RMSE: 0.62 Test RMSE: 0.8121391582118538\n",
      "Epoch Number: 34/300 Training RMSE: 0.62 Test RMSE: 0.8113647376564304\n",
      "Epoch Number: 35/300 Training RMSE: 0.62 Test RMSE: 0.8106322680645125\n",
      "Epoch Number: 36/300 Training RMSE: 0.61 Test RMSE: 0.8099387781102545\n",
      "Epoch Number: 37/300 Training RMSE: 0.61 Test RMSE: 0.8092815623134411\n",
      "Epoch Number: 38/300 Training RMSE: 0.61 Test RMSE: 0.8086581532300078\n",
      "Epoch Number: 39/300 Training RMSE: 0.61 Test RMSE: 0.8080662963782158\n",
      "Epoch Number: 40/300 Training RMSE: 0.60 Test RMSE: 0.8075039278631312\n",
      "Epoch Number: 41/300 Training RMSE: 0.60 Test RMSE: 0.8069691545394588\n",
      "Epoch Number: 42/300 Training RMSE: 0.60 Test RMSE: 0.8064602364913294\n",
      "Epoch Number: 43/300 Training RMSE: 0.60 Test RMSE: 0.805975571585277\n",
      "Epoch Number: 44/300 Training RMSE: 0.59 Test RMSE: 0.805513681854275\n",
      "Epoch Number: 45/300 Training RMSE: 0.59 Test RMSE: 0.8050732014854726\n",
      "Epoch Number: 46/300 Training RMSE: 0.59 Test RMSE: 0.8046528662058479\n",
      "Epoch Number: 47/300 Training RMSE: 0.59 Test RMSE: 0.8042515038835863\n",
      "Epoch Number: 48/300 Training RMSE: 0.59 Test RMSE: 0.803868026186325\n",
      "Epoch Number: 49/300 Training RMSE: 0.59 Test RMSE: 0.803501421159148\n",
      "Epoch Number: 50/300 Training RMSE: 0.58 Test RMSE: 0.8031507466043998\n",
      "Epoch Number: 51/300 Training RMSE: 0.58 Test RMSE: 0.8028151241622864\n",
      "Epoch Number: 52/300 Training RMSE: 0.58 Test RMSE: 0.8024937340055822\n",
      "Epoch Number: 53/300 Training RMSE: 0.58 Test RMSE: 0.8021858100740142\n",
      "Epoch Number: 54/300 Training RMSE: 0.58 Test RMSE: 0.8018906357841311\n",
      "Epoch Number: 55/300 Training RMSE: 0.58 Test RMSE: 0.8016075401591896\n",
      "Epoch Number: 56/300 Training RMSE: 0.57 Test RMSE: 0.8013358943309001\n",
      "Epoch Number: 57/300 Training RMSE: 0.57 Test RMSE: 0.8010751083710899\n",
      "Epoch Number: 58/300 Training RMSE: 0.57 Test RMSE: 0.8008246284165408\n",
      "Epoch Number: 59/300 Training RMSE: 0.57 Test RMSE: 0.8005839340549352\n",
      "Epoch Number: 60/300 Training RMSE: 0.57 Test RMSE: 0.8003525359435181\n",
      "Epoch Number: 61/300 Training RMSE: 0.57 Test RMSE: 0.8001299736356747\n",
      "Epoch Number: 62/300 Training RMSE: 0.57 Test RMSE: 0.7999158135933675\n",
      "Epoch Number: 63/300 Training RMSE: 0.57 Test RMSE: 0.7997096473661154\n",
      "Epoch Number: 64/300 Training RMSE: 0.56 Test RMSE: 0.7995110899192837\n",
      "Epoch Number: 65/300 Training RMSE: 0.56 Test RMSE: 0.7993197780966058\n",
      "Epoch Number: 66/300 Training RMSE: 0.56 Test RMSE: 0.7991353692034735\n",
      "Epoch Number: 67/300 Training RMSE: 0.56 Test RMSE: 0.798957539699146\n",
      "Epoch Number: 68/300 Training RMSE: 0.56 Test RMSE: 0.7987859839873975\n",
      "Epoch Number: 69/300 Training RMSE: 0.56 Test RMSE: 0.798620413296268\n",
      "Epoch Number: 70/300 Training RMSE: 0.56 Test RMSE: 0.7984605546387076\n",
      "Epoch Number: 71/300 Training RMSE: 0.56 Test RMSE: 0.7983061498468049\n",
      "Epoch Number: 72/300 Training RMSE: 0.56 Test RMSE: 0.7981569546731042\n",
      "Epoch Number: 73/300 Training RMSE: 0.56 Test RMSE: 0.7980127379532598\n",
      "Epoch Number: 74/300 Training RMSE: 0.55 Test RMSE: 0.7978732808248983\n",
      "Epoch Number: 75/300 Training RMSE: 0.55 Test RMSE: 0.7977383759981141\n",
      "Epoch Number: 76/300 Training RMSE: 0.55 Test RMSE: 0.7976078270734984\n",
      "Epoch Number: 77/300 Training RMSE: 0.55 Test RMSE: 0.7974814479040548\n",
      "Epoch Number: 78/300 Training RMSE: 0.55 Test RMSE: 0.7973590619976973\n",
      "Epoch Number: 79/300 Training RMSE: 0.55 Test RMSE: 0.7972405019573652\n",
      "Epoch Number: 80/300 Training RMSE: 0.55 Test RMSE: 0.7971256089560801\n",
      "Epoch Number: 81/300 Training RMSE: 0.55 Test RMSE: 0.7970142322444722\n",
      "Epoch Number: 82/300 Training RMSE: 0.55 Test RMSE: 0.7969062286886418\n",
      "Epoch Number: 83/300 Training RMSE: 0.55 Test RMSE: 0.7968014623362255\n",
      "Epoch Number: 84/300 Training RMSE: 0.55 Test RMSE: 0.7966998040088993\n",
      "Epoch Number: 85/300 Training RMSE: 0.55 Test RMSE: 0.7966011309195646\n",
      "Epoch Number: 86/300 Training RMSE: 0.55 Test RMSE: 0.7965053263126481\n",
      "Epoch Number: 87/300 Training RMSE: 0.55 Test RMSE: 0.7964122791260824\n",
      "Epoch Number: 88/300 Training RMSE: 0.55 Test RMSE: 0.7963218836735935\n",
      "Epoch Number: 89/300 Training RMSE: 0.54 Test RMSE: 0.7962340393460302\n",
      "Epoch Number: 90/300 Training RMSE: 0.54 Test RMSE: 0.7961486503305967\n",
      "Epoch Number: 91/300 Training RMSE: 0.54 Test RMSE: 0.7960656253468515\n",
      "Epoch Number: 92/300 Training RMSE: 0.54 Test RMSE: 0.795984877398506\n",
      "Epoch Number: 93/300 Training RMSE: 0.54 Test RMSE: 0.7959063235399705\n",
      "Epoch Number: 94/300 Training RMSE: 0.54 Test RMSE: 0.7958298846568627\n",
      "Epoch Number: 95/300 Training RMSE: 0.54 Test RMSE: 0.7957554852595288\n",
      "Epoch Number: 96/300 Training RMSE: 0.54 Test RMSE: 0.7956830532888453\n",
      "Epoch Number: 97/300 Training RMSE: 0.54 Test RMSE: 0.7956125199335302\n",
      "Epoch Number: 98/300 Training RMSE: 0.54 Test RMSE: 0.795543819458271\n",
      "Epoch Number: 99/300 Training RMSE: 0.54 Test RMSE: 0.7954768890419878\n",
      "Epoch Number: 100/300 Training RMSE: 0.54 Test RMSE: 0.7954116686256301\n",
      "Epoch Number: 101/300 Training RMSE: 0.54 Test RMSE: 0.7953481007689125\n",
      "Epoch Number: 102/300 Training RMSE: 0.54 Test RMSE: 0.7952861305154395\n",
      "Epoch Number: 103/300 Training RMSE: 0.54 Test RMSE: 0.7952257052656934\n",
      "Epoch Number: 104/300 Training RMSE: 0.54 Test RMSE: 0.7951667746574097\n",
      "Epoch Number: 105/300 Training RMSE: 0.54 Test RMSE: 0.7951092904528761\n",
      "Epoch Number: 106/300 Training RMSE: 0.54 Test RMSE: 0.7950532064327117\n",
      "Epoch Number: 107/300 Training RMSE: 0.54 Test RMSE: 0.7949984782957524\n",
      "Epoch Number: 108/300 Training RMSE: 0.54 Test RMSE: 0.7949450635646325\n",
      "Epoch Number: 109/300 Training RMSE: 0.54 Test RMSE: 0.7948929214967149\n",
      "Epoch Number: 110/300 Training RMSE: 0.53 Test RMSE: 0.7948420130000521\n",
      "Epoch Number: 111/300 Training RMSE: 0.53 Test RMSE: 0.7947923005540308\n",
      "Epoch Number: 112/300 Training RMSE: 0.53 Test RMSE: 0.794743748134462\n",
      "Epoch Number: 113/300 Training RMSE: 0.53 Test RMSE: 0.7946963211427487\n"
     ]
    },
    {
     "name": "stdout",
     "output_type": "stream",
     "text": [
      "Epoch Number: 114/300 Training RMSE: 0.53 Test RMSE: 0.7946499863390036\n",
      "Epoch Number: 115/300 Training RMSE: 0.53 Test RMSE: 0.7946047117787433\n",
      "Epoch Number: 116/300 Training RMSE: 0.53 Test RMSE: 0.7945604667530297\n",
      "Epoch Number: 117/300 Training RMSE: 0.53 Test RMSE: 0.7945172217318095\n",
      "Epoch Number: 118/300 Training RMSE: 0.53 Test RMSE: 0.7944749483102373\n",
      "Epoch Number: 119/300 Training RMSE: 0.53 Test RMSE: 0.794433619157848\n",
      "Epoch Number: 120/300 Training RMSE: 0.53 Test RMSE: 0.7943932079703677\n",
      "Epoch Number: 121/300 Training RMSE: 0.53 Test RMSE: 0.794353689424012\n",
      "Epoch Number: 122/300 Training RMSE: 0.53 Test RMSE: 0.7943150391321118\n",
      "Epoch Number: 123/300 Training RMSE: 0.53 Test RMSE: 0.7942772336039798\n",
      "Epoch Number: 124/300 Training RMSE: 0.53 Test RMSE: 0.7942402502057965\n",
      "Epoch Number: 125/300 Training RMSE: 0.53 Test RMSE: 0.7942040671234721\n",
      "Epoch Number: 126/300 Training RMSE: 0.53 Test RMSE: 0.7941686633273465\n",
      "Epoch Number: 127/300 Training RMSE: 0.53 Test RMSE: 0.7941340185385846\n",
      "Epoch Number: 128/300 Training RMSE: 0.53 Test RMSE: 0.7941001131972436\n",
      "Epoch Number: 129/300 Training RMSE: 0.53 Test RMSE: 0.7940669284318548\n",
      "Epoch Number: 130/300 Training RMSE: 0.53 Test RMSE: 0.7940344460304286\n",
      "Epoch Number: 131/300 Training RMSE: 0.53 Test RMSE: 0.7940026484128824\n",
      "Epoch Number: 132/300 Training RMSE: 0.53 Test RMSE: 0.7939715186047133\n",
      "Epoch Number: 133/300 Training RMSE: 0.53 Test RMSE: 0.7939410402119241\n",
      "Epoch Number: 134/300 Training RMSE: 0.53 Test RMSE: 0.7939111973970853\n",
      "Epoch Number: 135/300 Training RMSE: 0.53 Test RMSE: 0.7938819748565014\n",
      "Epoch Number: 136/300 Training RMSE: 0.53 Test RMSE: 0.793853357798416\n",
      "Epoch Number: 137/300 Training RMSE: 0.53 Test RMSE: 0.7938253319221829\n",
      "Epoch Number: 138/300 Training RMSE: 0.53 Test RMSE: 0.7937978833983917\n",
      "Epoch Number: 139/300 Training RMSE: 0.53 Test RMSE: 0.7937709988498579\n",
      "Epoch Number: 140/300 Training RMSE: 0.53 Test RMSE: 0.7937446653334647\n",
      "Epoch Number: 141/300 Training RMSE: 0.53 Test RMSE: 0.7937188703227965\n",
      "Epoch Number: 142/300 Training RMSE: 0.53 Test RMSE: 0.7936936016915135\n",
      "Epoch Number: 143/300 Training RMSE: 0.53 Test RMSE: 0.7936688476974909\n",
      "Epoch Number: 144/300 Training RMSE: 0.53 Test RMSE: 0.7936445969675904\n",
      "Epoch Number: 145/300 Training RMSE: 0.53 Test RMSE: 0.7936208384831231\n",
      "Epoch Number: 146/300 Training RMSE: 0.52 Test RMSE: 0.7935975615659147\n",
      "Epoch Number: 147/300 Training RMSE: 0.52 Test RMSE: 0.7935747558649656\n",
      "Epoch Number: 148/300 Training RMSE: 0.52 Test RMSE: 0.7935524113436894\n",
      "Epoch Number: 149/300 Training RMSE: 0.52 Test RMSE: 0.7935305182676643\n",
      "Epoch Number: 150/300 Training RMSE: 0.52 Test RMSE: 0.7935090671929258\n",
      "Epoch Number: 151/300 Training RMSE: 0.52 Test RMSE: 0.7934880489547352\n",
      "Epoch Number: 152/300 Training RMSE: 0.52 Test RMSE: 0.7934674546568078\n",
      "Epoch Number: 153/300 Training RMSE: 0.52 Test RMSE: 0.7934472756610201\n",
      "Epoch Number: 154/300 Training RMSE: 0.52 Test RMSE: 0.7934275035775136\n",
      "Epoch Number: 155/300 Training RMSE: 0.52 Test RMSE: 0.7934081302552182\n",
      "Epoch Number: 156/300 Training RMSE: 0.52 Test RMSE: 0.7933891477727792\n",
      "Epoch Number: 157/300 Training RMSE: 0.52 Test RMSE: 0.7933705484298377\n",
      "Epoch Number: 158/300 Training RMSE: 0.52 Test RMSE: 0.7933523247386839\n",
      "Epoch Number: 159/300 Training RMSE: 0.52 Test RMSE: 0.793334469416258\n",
      "Epoch Number: 160/300 Training RMSE: 0.52 Test RMSE: 0.7933169753764557\n",
      "Epoch Number: 161/300 Training RMSE: 0.52 Test RMSE: 0.7932998357227796\n",
      "Epoch Number: 162/300 Training RMSE: 0.52 Test RMSE: 0.7932830437412619\n",
      "Epoch Number: 163/300 Training RMSE: 0.52 Test RMSE: 0.793266592893709\n",
      "Epoch Number: 164/300 Training RMSE: 0.52 Test RMSE: 0.7932504768111815\n",
      "Epoch Number: 165/300 Training RMSE: 0.52 Test RMSE: 0.7932346892877848\n",
      "Epoch Number: 166/300 Training RMSE: 0.52 Test RMSE: 0.7932192242746761\n",
      "Epoch Number: 167/300 Training RMSE: 0.52 Test RMSE: 0.7932040758743333\n",
      "Epoch Number: 168/300 Training RMSE: 0.52 Test RMSE: 0.7931892383350656\n",
      "Epoch Number: 169/300 Training RMSE: 0.52 Test RMSE: 0.7931747060457226\n",
      "Epoch Number: 170/300 Training RMSE: 0.52 Test RMSE: 0.7931604735306436\n",
      "Epoch Number: 171/300 Training RMSE: 0.52 Test RMSE: 0.793146535444803\n",
      "Epoch Number: 172/300 Training RMSE: 0.52 Test RMSE: 0.7931328865691475\n",
      "Epoch Number: 173/300 Training RMSE: 0.52 Test RMSE: 0.7931195218061383\n",
      "Epoch Number: 174/300 Training RMSE: 0.52 Test RMSE: 0.7931064361754597\n",
      "Epoch Number: 175/300 Training RMSE: 0.52 Test RMSE: 0.793093624809912\n",
      "Epoch Number: 176/300 Training RMSE: 0.52 Test RMSE: 0.7930810829514708\n",
      "Epoch Number: 177/300 Training RMSE: 0.52 Test RMSE: 0.7930688059475105\n",
      "Epoch Number: 178/300 Training RMSE: 0.52 Test RMSE: 0.7930567892471622\n",
      "Epoch Number: 179/300 Training RMSE: 0.52 Test RMSE: 0.7930450283978545\n",
      "Epoch Number: 180/300 Training RMSE: 0.52 Test RMSE: 0.7930335190419681\n",
      "Epoch Number: 181/300 Training RMSE: 0.52 Test RMSE: 0.7930222569136397\n",
      "Epoch Number: 182/300 Training RMSE: 0.52 Test RMSE: 0.7930112378356886\n",
      "Epoch Number: 183/300 Training RMSE: 0.52 Test RMSE: 0.7930004577166793\n",
      "Epoch Number: 184/300 Training RMSE: 0.52 Test RMSE: 0.7929899125481007\n",
      "Epoch Number: 185/300 Training RMSE: 0.52 Test RMSE: 0.7929795984016578\n",
      "Epoch Number: 186/300 Training RMSE: 0.52 Test RMSE: 0.7929695114266727\n",
      "Epoch Number: 187/300 Training RMSE: 0.52 Test RMSE: 0.7929596478476015\n",
      "Epoch Number: 188/300 Training RMSE: 0.52 Test RMSE: 0.7929500039616489\n",
      "Epoch Number: 189/300 Training RMSE: 0.52 Test RMSE: 0.7929405761364836\n",
      "Epoch Number: 190/300 Training RMSE: 0.52 Test RMSE: 0.7929313608080283\n",
      "Epoch Number: 191/300 Training RMSE: 0.52 Test RMSE: 0.7929223544783816\n",
      "Epoch Number: 192/300 Training RMSE: 0.52 Test RMSE: 0.792913553713777\n",
      "Epoch Number: 193/300 Training RMSE: 0.52 Test RMSE: 0.7929049551426716\n",
      "Epoch Number: 194/300 Training RMSE: 0.52 Test RMSE: 0.7928965554538729\n",
      "Epoch Number: 195/300 Training RMSE: 0.52 Test RMSE: 0.7928883513947771\n",
      "Epoch Number: 196/300 Training RMSE: 0.52 Test RMSE: 0.7928803397696536\n",
      "Epoch Number: 197/300 Training RMSE: 0.52 Test RMSE: 0.7928725174380288\n",
      "Epoch Number: 198/300 Training RMSE: 0.52 Test RMSE: 0.7928648813130941\n",
      "Epoch Number: 199/300 Training RMSE: 0.52 Test RMSE: 0.7928574283602298\n",
      "Epoch Number: 200/300 Training RMSE: 0.52 Test RMSE: 0.7928501555955544\n",
      "Epoch Number: 201/300 Training RMSE: 0.52 Test RMSE: 0.7928430600845491\n",
      "Epoch Number: 202/300 Training RMSE: 0.52 Test RMSE: 0.7928361389407258\n",
      "Epoch Number: 203/300 Training RMSE: 0.52 Test RMSE: 0.7928293893243701\n",
      "Epoch Number: 204/300 Training RMSE: 0.52 Test RMSE: 0.7928228084413242\n",
      "Epoch Number: 205/300 Training RMSE: 0.52 Test RMSE: 0.7928163935418151\n",
      "Epoch Number: 206/300 Training RMSE: 0.52 Test RMSE: 0.7928101419193405\n",
      "Epoch Number: 207/300 Training RMSE: 0.52 Test RMSE: 0.7928040509095959\n",
      "Epoch Number: 208/300 Training RMSE: 0.52 Test RMSE: 0.79279811788945\n",
      "Epoch Number: 209/300 Training RMSE: 0.52 Test RMSE: 0.7927923402759569\n",
      "Epoch Number: 210/300 Training RMSE: 0.52 Test RMSE: 0.7927867155254064\n",
      "Epoch Number: 211/300 Training RMSE: 0.52 Test RMSE: 0.7927812411324299\n",
      "Epoch Number: 212/300 Training RMSE: 0.52 Test RMSE: 0.7927759146291125\n",
      "Epoch Number: 213/300 Training RMSE: 0.52 Test RMSE: 0.7927707335841733\n",
      "Epoch Number: 214/300 Training RMSE: 0.52 Test RMSE: 0.7927656956021617\n",
      "Epoch Number: 215/300 Training RMSE: 0.52 Test RMSE: 0.7927607983226839\n",
      "Epoch Number: 216/300 Training RMSE: 0.52 Test RMSE: 0.7927560394196681\n",
      "Epoch Number: 217/300 Training RMSE: 0.52 Test RMSE: 0.7927514166006554\n",
      "Epoch Number: 218/300 Training RMSE: 0.52 Test RMSE: 0.7927469276061264\n",
      "Epoch Number: 219/300 Training RMSE: 0.52 Test RMSE: 0.792742570208834\n",
      "Epoch Number: 220/300 Training RMSE: 0.52 Test RMSE: 0.7927383422131965\n",
      "Epoch Number: 221/300 Training RMSE: 0.52 Test RMSE: 0.7927342414546722\n",
      "Epoch Number: 222/300 Training RMSE: 0.52 Test RMSE: 0.7927302657991987\n",
      "Epoch Number: 223/300 Training RMSE: 0.52 Test RMSE: 0.7927264131426242\n",
      "Epoch Number: 224/300 Training RMSE: 0.52 Test RMSE: 0.7927226814101799\n",
      "Epoch Number: 225/300 Training RMSE: 0.52 Test RMSE: 0.7927190685559662\n",
      "Epoch Number: 226/300 Training RMSE: 0.51 Test RMSE: 0.7927155725624316\n",
      "Epoch Number: 227/300 Training RMSE: 0.51 Test RMSE: 0.7927121914399415\n"
     ]
    },
    {
     "name": "stdout",
     "output_type": "stream",
     "text": [
      "Epoch Number: 228/300 Training RMSE: 0.51 Test RMSE: 0.7927089232262762\n",
      "Epoch Number: 229/300 Training RMSE: 0.51 Test RMSE: 0.7927057659862082\n",
      "Epoch Number: 230/300 Training RMSE: 0.51 Test RMSE: 0.792702717811075\n",
      "Epoch Number: 231/300 Training RMSE: 0.51 Test RMSE: 0.7926997768183546\n",
      "Epoch Number: 232/300 Training RMSE: 0.51 Test RMSE: 0.7926969411512899\n",
      "Epoch Number: 233/300 Training RMSE: 0.51 Test RMSE: 0.7926942089784788\n",
      "Epoch Number: 234/300 Training RMSE: 0.51 Test RMSE: 0.7926915784935262\n",
      "Epoch Number: 235/300 Training RMSE: 0.51 Test RMSE: 0.7926890479146711\n",
      "Epoch Number: 236/300 Training RMSE: 0.51 Test RMSE: 0.7926866154844517\n",
      "Epoch Number: 237/300 Training RMSE: 0.51 Test RMSE: 0.7926842794693625\n",
      "Epoch Number: 238/300 Training RMSE: 0.51 Test RMSE: 0.7926820381595281\n",
      "Epoch Number: 239/300 Training RMSE: 0.51 Test RMSE: 0.7926798898683938\n",
      "Epoch Number: 240/300 Training RMSE: 0.51 Test RMSE: 0.7926778329324249\n",
      "Epoch Number: 241/300 Training RMSE: 0.51 Test RMSE: 0.7926758657108007\n",
      "Epoch Number: 242/300 Training RMSE: 0.51 Test RMSE: 0.7926739865851326\n",
      "Epoch Number: 243/300 Training RMSE: 0.51 Test RMSE: 0.7926721939591851\n",
      "Epoch Number: 244/300 Training RMSE: 0.51 Test RMSE: 0.7926704862586043\n",
      "Epoch Number: 245/300 Training RMSE: 0.51 Test RMSE: 0.7926688619306529\n",
      "Epoch Number: 246/300 Training RMSE: 0.51 Test RMSE: 0.7926673194439557\n",
      "Epoch Number: 247/300 Training RMSE: 0.51 Test RMSE: 0.7926658572882473\n",
      "Epoch Number: 248/300 Training RMSE: 0.51 Test RMSE: 0.7926644739741244\n",
      "Epoch Number: 249/300 Training RMSE: 0.51 Test RMSE: 0.7926631680328146\n",
      "Epoch Number: 250/300 Training RMSE: 0.51 Test RMSE: 0.7926619380159334\n",
      "Epoch Number: 251/300 Training RMSE: 0.51 Test RMSE: 0.7926607824952678\n",
      "Epoch Number: 252/300 Training RMSE: 0.51 Test RMSE: 0.7926597000625428\n",
      "Epoch Number: 253/300 Training RMSE: 0.51 Test RMSE: 0.7926586893292081\n",
      "Epoch Number: 254/300 Training RMSE: 0.51 Test RMSE: 0.7926577489262296\n",
      "Epoch Number: 255/300 Training RMSE: 0.51 Test RMSE: 0.7926568775038639\n",
      "Epoch Number: 256/300 Training RMSE: 0.51 Test RMSE: 0.7926560737314633\n",
      "Epoch Number: 257/300 Training RMSE: 0.51 Test RMSE: 0.7926553362972759\n",
      "Epoch Number: 258/300 Training RMSE: 0.51 Test RMSE: 0.7926546639082419\n",
      "Epoch Number: 259/300 Training RMSE: 0.51 Test RMSE: 0.7926540552897874\n",
      "Epoch Number: 260/300 Training RMSE: 0.51 Test RMSE: 0.7926535091856546\n",
      "Epoch Number: 261/300 Training RMSE: 0.51 Test RMSE: 0.7926530243576886\n",
      "Epoch Number: 262/300 Training RMSE: 0.51 Test RMSE: 0.792652599585668\n",
      "Epoch Number: 263/300 Training RMSE: 0.51 Test RMSE: 0.7926522336670971\n",
      "Epoch Number: 264/300 Training RMSE: 0.51 Test RMSE: 0.792651925417061\n",
      "Epoch Number: 265/300 Training RMSE: 0.51 Test RMSE: 0.792651673668003\n",
      "Epoch Number: 266/300 Training RMSE: 0.51 Test RMSE: 0.7926514772695722\n",
      "Epoch Number: 267/300 Training RMSE: 0.51 Test RMSE: 0.7926513350884383\n",
      "Epoch Number: 268/300 Training RMSE: 0.51 Test RMSE: 0.7926512460081199\n",
      "Epoch Number: 269/300 Training RMSE: 0.51 Test RMSE: 0.79265120892881\n",
      "Epoch Number: 270/300 Training RMSE: 0.51 Test RMSE: 0.7926512227672028\n",
      "Epoch Number: 271/300 Training RMSE: 0.51 Test RMSE: 0.7926512864563303\n",
      "Epoch Number: 272/300 Training RMSE: 0.51 Test RMSE: 0.7926513989453846\n",
      "Epoch Number: 273/300 Training RMSE: 0.51 Test RMSE: 0.7926515591995559\n",
      "Epoch Number: 274/300 Training RMSE: 0.51 Test RMSE: 0.7926517661998688\n",
      "Test error didn't get lower for the last 5 epochs. Training is stopped.\n",
      "Best test error is: 0.79. Best features are saved.\n",
      "Training has ended...\n"
     ]
    }
   ],
   "source": [
    "myFunk.fit(data.values)"
   ]
  },
  {
   "cell_type": "code",
   "execution_count": 6,
   "metadata": {},
   "outputs": [
    {
     "data": {
      "text/plain": [
       "['152603',\n",
       " '228194',\n",
       " '41439',\n",
       " '244264',\n",
       " '58431',\n",
       " '205220',\n",
       " '109410',\n",
       " '73567',\n",
       " '77877',\n",
       " '157547']"
      ]
     },
     "execution_count": 6,
     "metadata": {},
     "output_type": "execute_result"
    }
   ],
   "source": [
    "myFunk.get_recommendation_for_existing_user('1')"
   ]
  },
  {
   "cell_type": "code",
   "execution_count": 7,
   "metadata": {
    "scrolled": true
   },
   "outputs": [
    {
     "data": {
      "text/plain": [
       "['812', '860', '12', '808', '1640', '14442', '231', '10330', '2976', '863']"
      ]
     },
     "execution_count": 7,
     "metadata": {},
     "output_type": "execute_result"
    }
   ],
   "source": [
    "myFunk.get_similar_products('10020')"
   ]
  },
  {
   "cell_type": "code",
   "execution_count": 19,
   "metadata": {},
   "outputs": [
    {
     "data": {
      "text/plain": [
       "['28355', '23437', '37169', '10661', '216015']"
      ]
     },
     "execution_count": 19,
     "metadata": {},
     "output_type": "execute_result"
    }
   ],
   "source": [
    "myFunk.get_recommendation_for_new_user({'812':4})"
   ]
  },
  {
   "cell_type": "code",
   "execution_count": 21,
   "metadata": {},
   "outputs": [
    {
     "data": {
      "text/plain": [
       "['37169', '260346', '6477', '28355', '42684']"
      ]
     },
     "execution_count": 21,
     "metadata": {},
     "output_type": "execute_result"
    }
   ],
   "source": [
    "myFunk.get_recommendation_for_new_user({'812':3})"
   ]
  },
  {
   "cell_type": "code",
   "execution_count": null,
   "metadata": {
    "scrolled": true
   },
   "outputs": [],
   "source": [
    "# Use this for random or grid search\n",
    "for each in range(1,11):\n",
    "    myFunk.set_hyperparameters(learning_rate= each*0.001)\n",
    "    myFunk.fit(data.values, search_parameter_space=True)"
   ]
  },
  {
   "cell_type": "code",
   "execution_count": null,
   "metadata": {},
   "outputs": [],
   "source": []
  }
 ],
 "metadata": {
  "kernelspec": {
   "display_name": "Python 3",
   "language": "python",
   "name": "python3"
  },
  "language_info": {
   "codemirror_mode": {
    "name": "ipython",
    "version": 3
   },
   "file_extension": ".py",
   "mimetype": "text/x-python",
   "name": "python",
   "nbconvert_exporter": "python",
   "pygments_lexer": "ipython3",
   "version": "3.7.6"
  }
 },
 "nbformat": 4,
 "nbformat_minor": 4
}

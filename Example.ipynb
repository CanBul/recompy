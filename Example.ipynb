{
 "cells": [
  {
   "cell_type": "code",
   "execution_count": 20,
   "metadata": {},
   "outputs": [],
   "source": [
    "import pandas as pd\n",
    "from FunkSVD import FunkSVD\n",
    "from FunkSVD import NMF"
   ]
  },
  {
   "cell_type": "code",
   "execution_count": 10,
   "metadata": {},
   "outputs": [],
   "source": [
    "data = pd.read_csv('data/ratings_small.csv')\n",
    "data.drop('timestamp',axis=1,inplace=True)"
   ]
  },
  {
   "cell_type": "code",
   "execution_count": 11,
   "metadata": {},
   "outputs": [
    {
     "data": {
      "text/html": [
       "<div>\n",
       "<style scoped>\n",
       "    .dataframe tbody tr th:only-of-type {\n",
       "        vertical-align: middle;\n",
       "    }\n",
       "\n",
       "    .dataframe tbody tr th {\n",
       "        vertical-align: top;\n",
       "    }\n",
       "\n",
       "    .dataframe thead th {\n",
       "        text-align: right;\n",
       "    }\n",
       "</style>\n",
       "<table border=\"1\" class=\"dataframe\">\n",
       "  <thead>\n",
       "    <tr style=\"text-align: right;\">\n",
       "      <th></th>\n",
       "      <th>userId</th>\n",
       "      <th>movieId</th>\n",
       "      <th>rating</th>\n",
       "    </tr>\n",
       "  </thead>\n",
       "  <tbody>\n",
       "    <tr>\n",
       "      <th>0</th>\n",
       "      <td>1</td>\n",
       "      <td>31</td>\n",
       "      <td>2.5</td>\n",
       "    </tr>\n",
       "    <tr>\n",
       "      <th>1</th>\n",
       "      <td>1</td>\n",
       "      <td>1029</td>\n",
       "      <td>3.0</td>\n",
       "    </tr>\n",
       "    <tr>\n",
       "      <th>2</th>\n",
       "      <td>1</td>\n",
       "      <td>1061</td>\n",
       "      <td>3.0</td>\n",
       "    </tr>\n",
       "    <tr>\n",
       "      <th>3</th>\n",
       "      <td>1</td>\n",
       "      <td>1129</td>\n",
       "      <td>2.0</td>\n",
       "    </tr>\n",
       "    <tr>\n",
       "      <th>4</th>\n",
       "      <td>1</td>\n",
       "      <td>1172</td>\n",
       "      <td>4.0</td>\n",
       "    </tr>\n",
       "    <tr>\n",
       "      <th>...</th>\n",
       "      <td>...</td>\n",
       "      <td>...</td>\n",
       "      <td>...</td>\n",
       "    </tr>\n",
       "    <tr>\n",
       "      <th>99999</th>\n",
       "      <td>671</td>\n",
       "      <td>6268</td>\n",
       "      <td>2.5</td>\n",
       "    </tr>\n",
       "    <tr>\n",
       "      <th>100000</th>\n",
       "      <td>671</td>\n",
       "      <td>6269</td>\n",
       "      <td>4.0</td>\n",
       "    </tr>\n",
       "    <tr>\n",
       "      <th>100001</th>\n",
       "      <td>671</td>\n",
       "      <td>6365</td>\n",
       "      <td>4.0</td>\n",
       "    </tr>\n",
       "    <tr>\n",
       "      <th>100002</th>\n",
       "      <td>671</td>\n",
       "      <td>6385</td>\n",
       "      <td>2.5</td>\n",
       "    </tr>\n",
       "    <tr>\n",
       "      <th>100003</th>\n",
       "      <td>671</td>\n",
       "      <td>6565</td>\n",
       "      <td>3.5</td>\n",
       "    </tr>\n",
       "  </tbody>\n",
       "</table>\n",
       "<p>100004 rows × 3 columns</p>\n",
       "</div>"
      ],
      "text/plain": [
       "        userId  movieId  rating\n",
       "0            1       31     2.5\n",
       "1            1     1029     3.0\n",
       "2            1     1061     3.0\n",
       "3            1     1129     2.0\n",
       "4            1     1172     4.0\n",
       "...        ...      ...     ...\n",
       "99999      671     6268     2.5\n",
       "100000     671     6269     4.0\n",
       "100001     671     6365     4.0\n",
       "100002     671     6385     2.5\n",
       "100003     671     6565     3.5\n",
       "\n",
       "[100004 rows x 3 columns]"
      ]
     },
     "execution_count": 11,
     "metadata": {},
     "output_type": "execute_result"
    }
   ],
   "source": [
    "data"
   ]
  },
  {
   "cell_type": "markdown",
   "metadata": {},
   "source": [
    "# FunkSVD"
   ]
  },
  {
   "cell_type": "code",
   "execution_count": 13,
   "metadata": {},
   "outputs": [],
   "source": [
    "myfunk = FunkSVD()"
   ]
  },
  {
   "cell_type": "code",
   "execution_count": 17,
   "metadata": {},
   "outputs": [],
   "source": [
    "myfunk.set_hyperparameters(max_epoch=10,n_latent=15)"
   ]
  },
  {
   "cell_type": "code",
   "execution_count": 18,
   "metadata": {},
   "outputs": [
    {
     "name": "stdout",
     "output_type": "stream",
     "text": [
      "Your data has 671 distinct users and 9066 distinct items.\n",
      "Your data has been split into train and test set.\n",
      "Length of training set is 89289. Length of Test set is 10715\n",
      "Initializing features for Users and Items...\n",
      "Starting training...\n",
      "Epoch Number: 1/10 Training RMSE: 0.94 Test RMSE: 0.9271262320860201\n",
      "Epoch Number: 2/10 Training RMSE: 0.89 Test RMSE: 0.9019976069999753\n",
      "Epoch Number: 3/10 Training RMSE: 0.87 Test RMSE: 0.8931135011787061\n",
      "Epoch Number: 4/10 Training RMSE: 0.86 Test RMSE: 0.8886994343767858\n",
      "Epoch Number: 5/10 Training RMSE: 0.85 Test RMSE: 0.8860493117198118\n",
      "Epoch Number: 6/10 Training RMSE: 0.84 Test RMSE: 0.8842427196828986\n",
      "Epoch Number: 7/10 Training RMSE: 0.83 Test RMSE: 0.8828947384133441\n",
      "Epoch Number: 8/10 Training RMSE: 0.83 Test RMSE: 0.881818452093624\n",
      "Epoch Number: 9/10 Training RMSE: 0.82 Test RMSE: 0.8809115164799345\n",
      "Epoch Number: 10/10 Training RMSE: 0.82 Test RMSE: 0.8801120974156768\n",
      "Training has ended...\n"
     ]
    }
   ],
   "source": [
    "myfunk.fit(data.values)"
   ]
  },
  {
   "cell_type": "markdown",
   "metadata": {},
   "source": [
    "# NMF"
   ]
  },
  {
   "cell_type": "code",
   "execution_count": 21,
   "metadata": {},
   "outputs": [],
   "source": [
    "nmf = NMF()"
   ]
  },
  {
   "cell_type": "code",
   "execution_count": 24,
   "metadata": {},
   "outputs": [],
   "source": [
    "nmf.set_hyperparameters(n_epochs=10,n_latent=15)"
   ]
  },
  {
   "cell_type": "code",
   "execution_count": null,
   "metadata": {},
   "outputs": [
    {
     "name": "stdout",
     "output_type": "stream",
     "text": [
      "Your data has 671 distinct users and 9066 distinct items.\n",
      "Your data has been split into train and test set.\n",
      "Length of training set is 89289. Length of Test set is 10715\n",
      "Initializing features for Users and Items...\n",
      "Epoch Number: 1/10 Training RMSE: 1.00 Test RMSE: 1.0695076251264486\n",
      "Epoch Number: 2/10 Training RMSE: 0.89 Test RMSE: 0.9863234110370624\n",
      "Epoch Number: 3/10 Training RMSE: 0.91 Test RMSE: 1.020579331586799\n",
      "Epoch Number: 4/10 Training RMSE: 0.84 Test RMSE: 0.9655751059882817\n",
      "Epoch Number: 5/10 Training RMSE: 0.88 Test RMSE: 0.9998353806200255\n",
      "Epoch Number: 6/10 Training RMSE: 0.81 Test RMSE: 0.9508064277260897\n",
      "Epoch Number: 7/10 Training RMSE: 0.85 Test RMSE: 0.9838905746458799\n",
      "Epoch Number: 8/10 Training RMSE: 0.78 Test RMSE: 0.9391508199618339\n",
      "Epoch Number: 9/10 Training RMSE: 0.82 Test RMSE: 0.9708454106539709\n"
     ]
    }
   ],
   "source": [
    "nmf.fit(data.values)"
   ]
  },
  {
   "cell_type": "code",
   "execution_count": null,
   "metadata": {},
   "outputs": [],
   "source": []
  }
 ],
 "metadata": {
  "kernelspec": {
   "display_name": "Python 3",
   "language": "python",
   "name": "python3"
  },
  "language_info": {
   "codemirror_mode": {
    "name": "ipython",
    "version": 3
   },
   "file_extension": ".py",
   "mimetype": "text/x-python",
   "name": "python",
   "nbconvert_exporter": "python",
   "pygments_lexer": "ipython3",
   "version": "3.7.6"
  }
 },
 "nbformat": 4,
 "nbformat_minor": 4
}

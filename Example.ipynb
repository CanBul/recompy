{
 "cells": [
  {
   "cell_type": "code",
   "execution_count": 1,
   "metadata": {},
   "outputs": [],
   "source": [
    "from FunkSVD import FunkSVD\n",
    "import pandas as pd\n",
    "\n",
    "data = pd.read_csv('./data/ratings_small.csv')\n",
    "data.drop('timestamp', axis=1, inplace=True)\n"
   ]
  },
  {
   "cell_type": "code",
   "execution_count": 2,
   "metadata": {},
   "outputs": [
    {
     "data": {
      "text/html": [
       "<div>\n",
       "<style scoped>\n",
       "    .dataframe tbody tr th:only-of-type {\n",
       "        vertical-align: middle;\n",
       "    }\n",
       "\n",
       "    .dataframe tbody tr th {\n",
       "        vertical-align: top;\n",
       "    }\n",
       "\n",
       "    .dataframe thead th {\n",
       "        text-align: right;\n",
       "    }\n",
       "</style>\n",
       "<table border=\"1\" class=\"dataframe\">\n",
       "  <thead>\n",
       "    <tr style=\"text-align: right;\">\n",
       "      <th></th>\n",
       "      <th>userId</th>\n",
       "      <th>movieId</th>\n",
       "      <th>rating</th>\n",
       "    </tr>\n",
       "  </thead>\n",
       "  <tbody>\n",
       "    <tr>\n",
       "      <th>0</th>\n",
       "      <td>1</td>\n",
       "      <td>31</td>\n",
       "      <td>2.5</td>\n",
       "    </tr>\n",
       "    <tr>\n",
       "      <th>1</th>\n",
       "      <td>1</td>\n",
       "      <td>1029</td>\n",
       "      <td>3.0</td>\n",
       "    </tr>\n",
       "    <tr>\n",
       "      <th>2</th>\n",
       "      <td>1</td>\n",
       "      <td>1061</td>\n",
       "      <td>3.0</td>\n",
       "    </tr>\n",
       "    <tr>\n",
       "      <th>3</th>\n",
       "      <td>1</td>\n",
       "      <td>1129</td>\n",
       "      <td>2.0</td>\n",
       "    </tr>\n",
       "    <tr>\n",
       "      <th>4</th>\n",
       "      <td>1</td>\n",
       "      <td>1172</td>\n",
       "      <td>4.0</td>\n",
       "    </tr>\n",
       "  </tbody>\n",
       "</table>\n",
       "</div>"
      ],
      "text/plain": [
       "   userId  movieId  rating\n",
       "0       1       31     2.5\n",
       "1       1     1029     3.0\n",
       "2       1     1061     3.0\n",
       "3       1     1129     2.0\n",
       "4       1     1172     4.0"
      ]
     },
     "execution_count": 2,
     "metadata": {},
     "output_type": "execute_result"
    }
   ],
   "source": [
    "data.head()"
   ]
  },
  {
   "cell_type": "code",
   "execution_count": 3,
   "metadata": {},
   "outputs": [],
   "source": [
    "myFunk= FunkSVD()"
   ]
  },
  {
   "cell_type": "code",
   "execution_count": 4,
   "metadata": {},
   "outputs": [],
   "source": [
    "myFunk.set_hyperparameters(max_epoch=10, early_stopping=5, n_latent=45)"
   ]
  },
  {
   "cell_type": "code",
   "execution_count": 5,
   "metadata": {
    "scrolled": false
   },
   "outputs": [
    {
     "name": "stdout",
     "output_type": "stream",
     "text": [
      "Your data has 671 distinct users and 9066 distinct items.\n",
      "Your data has been split into train and test set.\n",
      "Length of training set is 89289. Length of Test set is 10715\n",
      "Initializing features for Users and Items...\n",
      "Starting training...\n",
      "Epoch Number: 1/10 Training RMSE: 1.06 Test RMSE: 1.1282416430845432\n",
      "Epoch Number: 2/10 Training RMSE: 0.96 Test RMSE: 1.0189101250811032\n",
      "Epoch Number: 3/10 Training RMSE: 0.91 Test RMSE: 0.9783791350471287\n",
      "Epoch Number: 4/10 Training RMSE: 0.88 Test RMSE: 0.9581797950649142\n",
      "Epoch Number: 5/10 Training RMSE: 0.86 Test RMSE: 0.9460374193494648\n",
      "Epoch Number: 6/10 Training RMSE: 0.85 Test RMSE: 0.9377521770380512\n",
      "Epoch Number: 7/10 Training RMSE: 0.83 Test RMSE: 0.9315507592358773\n",
      "Epoch Number: 8/10 Training RMSE: 0.82 Test RMSE: 0.926567423894673\n",
      "Epoch Number: 9/10 Training RMSE: 0.81 Test RMSE: 0.9223355529669359\n",
      "Epoch Number: 10/10 Training RMSE: 0.80 Test RMSE: 0.9185863692652602\n"
     ]
    }
   ],
   "source": [
    "myFunk.fit(data.values)"
   ]
  },
  {
   "cell_type": "code",
   "execution_count": 6,
   "metadata": {},
   "outputs": [
    {
     "data": {
      "text/plain": [
       "['8187',\n",
       " '38499',\n",
       " '96815',\n",
       " '2545',\n",
       " '60135',\n",
       " '7048',\n",
       " '42783',\n",
       " '109249',\n",
       " '140523',\n",
       " '3665']"
      ]
     },
     "execution_count": 6,
     "metadata": {},
     "output_type": "execute_result"
    }
   ],
   "source": [
    "myFunk.get_recommendation_for_existing_user('1')"
   ]
  },
  {
   "cell_type": "code",
   "execution_count": 7,
   "metadata": {
    "scrolled": true
   },
   "outputs": [
    {
     "data": {
      "text/plain": [
       "['25764',\n",
       " '25839',\n",
       " '586',\n",
       " '54372',\n",
       " '2571',\n",
       " '8636',\n",
       " '25850',\n",
       " '104457',\n",
       " '6365',\n",
       " '6062']"
      ]
     },
     "execution_count": 7,
     "metadata": {},
     "output_type": "execute_result"
    }
   ],
   "source": [
    "myFunk.get_similar_products('31')"
   ]
  },
  {
   "cell_type": "code",
   "execution_count": 12,
   "metadata": {},
   "outputs": [
    {
     "data": {
      "text/plain": [
       "['5914', '2647', '55851', '5413', '55063']"
      ]
     },
     "execution_count": 12,
     "metadata": {},
     "output_type": "execute_result"
    }
   ],
   "source": [
    "myFunk.get_recommendation_for_new_user({'301':4})"
   ]
  },
  {
   "cell_type": "code",
   "execution_count": 11,
   "metadata": {},
   "outputs": [
    {
     "name": "stdout",
     "output_type": "stream",
     "text": [
      "Initializing features for Users and Items...\n",
      "Starting training...\n",
      "Epoch Number: 1/5 Training RMSE: 1.27 Test RMSE: 1.2733023120068037\n",
      "Epoch Number: 2/5 Training RMSE: 1.15 Test RMSE: 1.109940140542415\n",
      "Epoch Number: 3/5 Training RMSE: 1.08 Test RMSE: 1.0325700863819272\n",
      "Epoch Number: 4/5 Training RMSE: 1.04 Test RMSE: 0.989180512872709\n",
      "Epoch Number: 5/5 Training RMSE: 1.01 Test RMSE: 0.9617075168344591\n",
      "Initializing features for Users and Items...\n",
      "Starting training...\n",
      "Epoch Number: 1/5 Training RMSE: 1.15 Test RMSE: 1.1094469896166357\n",
      "Epoch Number: 2/5 Training RMSE: 1.04 Test RMSE: 0.9929146659562688\n",
      "Epoch Number: 3/5 Training RMSE: 1.00 Test RMSE: 0.9466088220549237\n",
      "Epoch Number: 4/5 Training RMSE: 0.96 Test RMSE: 0.9227317917117837\n",
      "Epoch Number: 5/5 Training RMSE: 0.94 Test RMSE: 0.9087023970259325\n",
      "Initializing features for Users and Items...\n",
      "Starting training...\n",
      "Epoch Number: 1/5 Training RMSE: 1.09 Test RMSE: 1.0396841559167596\n",
      "Epoch Number: 2/5 Training RMSE: 1.00 Test RMSE: 0.951860292230522\n",
      "Epoch Number: 3/5 Training RMSE: 0.95 Test RMSE: 0.9194121009750379\n",
      "Epoch Number: 4/5 Training RMSE: 0.93 Test RMSE: 0.9033369983127537\n",
      "Epoch Number: 5/5 Training RMSE: 0.91 Test RMSE: 0.8941932027317447\n",
      "Initializing features for Users and Items...\n",
      "Starting training...\n",
      "Epoch Number: 1/5 Training RMSE: 1.05 Test RMSE: 1.0010574358586874\n",
      "Epoch Number: 2/5 Training RMSE: 0.97 Test RMSE: 0.927293585282475\n",
      "Epoch Number: 3/5 Training RMSE: 0.93 Test RMSE: 0.903277953563598\n",
      "Epoch Number: 4/5 Training RMSE: 0.91 Test RMSE: 0.8924156313916257\n",
      "Epoch Number: 5/5 Training RMSE: 0.89 Test RMSE: 0.8865859070776356\n",
      "Initializing features for Users and Items...\n",
      "Starting training...\n",
      "Epoch Number: 1/5 Training RMSE: 1.02 Test RMSE: 0.970236907836824\n",
      "Epoch Number: 2/5 Training RMSE: 0.95 Test RMSE: 0.9138223853418576\n",
      "Epoch Number: 3/5 Training RMSE: 0.91 Test RMSE: 0.8957753967747067\n",
      "Epoch Number: 4/5 Training RMSE: 0.89 Test RMSE: 0.8876176988309731\n",
      "Epoch Number: 5/5 Training RMSE: 0.88 Test RMSE: 0.8832421844085382\n",
      "Initializing features for Users and Items...\n",
      "Starting training...\n",
      "Epoch Number: 1/5 Training RMSE: 1.00 Test RMSE: 0.9493404597245791\n",
      "Epoch Number: 2/5 Training RMSE: 0.93 Test RMSE: 0.903615865555122\n",
      "Epoch Number: 3/5 Training RMSE: 0.90 Test RMSE: 0.8897719789701629\n",
      "Epoch Number: 4/5 Training RMSE: 0.88 Test RMSE: 0.8837428750518631\n",
      "Epoch Number: 5/5 Training RMSE: 0.87 Test RMSE: 0.88056077599177\n",
      "Initializing features for Users and Items...\n",
      "Starting training...\n",
      "Epoch Number: 1/5 Training RMSE: 0.98 Test RMSE: 0.9345471538519559\n",
      "Epoch Number: 2/5 Training RMSE: 0.92 Test RMSE: 0.8956074753781976\n",
      "Epoch Number: 3/5 Training RMSE: 0.89 Test RMSE: 0.8850596664468624\n",
      "Epoch Number: 4/5 Training RMSE: 0.87 Test RMSE: 0.880692587994738\n",
      "Epoch Number: 5/5 Training RMSE: 0.86 Test RMSE: 0.8784414252680164\n",
      "Initializing features for Users and Items...\n",
      "Starting training...\n",
      "Epoch Number: 1/5 Training RMSE: 0.97 Test RMSE: 0.9262416523953008\n",
      "Epoch Number: 2/5 Training RMSE: 0.91 Test RMSE: 0.8924343263371044\n",
      "Epoch Number: 3/5 Training RMSE: 0.88 Test RMSE: 0.8836872689547799\n",
      "Epoch Number: 4/5 Training RMSE: 0.87 Test RMSE: 0.8802740901702354\n",
      "Epoch Number: 5/5 Training RMSE: 0.86 Test RMSE: 0.8785742732451081\n",
      "Initializing features for Users and Items...\n",
      "Starting training...\n",
      "Epoch Number: 1/5 Training RMSE: 0.96 Test RMSE: 0.9277446185935871\n",
      "Epoch Number: 2/5 Training RMSE: 0.90 Test RMSE: 0.8955866324297016\n",
      "Epoch Number: 3/5 Training RMSE: 0.88 Test RMSE: 0.8867103520767831\n",
      "Epoch Number: 4/5 Training RMSE: 0.86 Test RMSE: 0.8829834155782933\n",
      "Epoch Number: 5/5 Training RMSE: 0.85 Test RMSE: 0.880996839578493\n",
      "Initializing features for Users and Items...\n",
      "Starting training...\n",
      "Epoch Number: 1/5 Training RMSE: 0.95 Test RMSE: 0.9188217638419889\n",
      "Epoch Number: 2/5 Training RMSE: 0.90 Test RMSE: 0.892637025837825\n",
      "Epoch Number: 3/5 Training RMSE: 0.87 Test RMSE: 0.8855308975263301\n",
      "Epoch Number: 4/5 Training RMSE: 0.86 Test RMSE: 0.882592108566955\n",
      "Epoch Number: 5/5 Training RMSE: 0.85 Test RMSE: 0.8810506333377794\n"
     ]
    }
   ],
   "source": [
    "# Use this for random or grid search\n",
    "for each in range(1,11):\n",
    "    myFunk.set_hyperparameters(learning_rate= each*0.001)\n",
    "    myFunk.fit(data.values, search_parameter_space=True)"
   ]
  }
 ],
 "metadata": {
  "kernelspec": {
   "display_name": "Python 3",
   "language": "python",
   "name": "python3"
  },
  "language_info": {
   "codemirror_mode": {
    "name": "ipython",
    "version": 3
   },
   "file_extension": ".py",
   "mimetype": "text/x-python",
   "name": "python",
   "nbconvert_exporter": "python",
   "pygments_lexer": "ipython3",
   "version": "3.7.6"
  }
 },
 "nbformat": 4,
 "nbformat_minor": 4
}

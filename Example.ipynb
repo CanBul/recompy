{
 "cells": [
  {
   "cell_type": "code",
   "execution_count": 1,
   "metadata": {},
   "outputs": [],
   "source": [
    "from FunkSVD import FunkSVD\n",
    "from FunkSVD import NMF\n",
    "import pandas as pd\n",
    "import numpy as np\n",
    "\n",
    "data = pd.read_csv('./data/prepared_data.csv', index_col=0)"
   ]
  },
  {
   "cell_type": "code",
   "execution_count": 2,
   "metadata": {},
   "outputs": [
    {
     "data": {
      "text/html": [
       "<div>\n",
       "<style scoped>\n",
       "    .dataframe tbody tr th:only-of-type {\n",
       "        vertical-align: middle;\n",
       "    }\n",
       "\n",
       "    .dataframe tbody tr th {\n",
       "        vertical-align: top;\n",
       "    }\n",
       "\n",
       "    .dataframe thead th {\n",
       "        text-align: right;\n",
       "    }\n",
       "</style>\n",
       "<table border=\"1\" class=\"dataframe\">\n",
       "  <thead>\n",
       "    <tr style=\"text-align: right;\">\n",
       "      <th></th>\n",
       "      <th>userId</th>\n",
       "      <th>tmdbId</th>\n",
       "      <th>rating</th>\n",
       "    </tr>\n",
       "  </thead>\n",
       "  <tbody>\n",
       "    <tr>\n",
       "      <th>0</th>\n",
       "      <td>1</td>\n",
       "      <td>862.0</td>\n",
       "      <td>4.0</td>\n",
       "    </tr>\n",
       "    <tr>\n",
       "      <th>1</th>\n",
       "      <td>5</td>\n",
       "      <td>862.0</td>\n",
       "      <td>4.0</td>\n",
       "    </tr>\n",
       "    <tr>\n",
       "      <th>2</th>\n",
       "      <td>7</td>\n",
       "      <td>862.0</td>\n",
       "      <td>4.5</td>\n",
       "    </tr>\n",
       "    <tr>\n",
       "      <th>3</th>\n",
       "      <td>15</td>\n",
       "      <td>862.0</td>\n",
       "      <td>2.5</td>\n",
       "    </tr>\n",
       "    <tr>\n",
       "      <th>4</th>\n",
       "      <td>17</td>\n",
       "      <td>862.0</td>\n",
       "      <td>4.5</td>\n",
       "    </tr>\n",
       "  </tbody>\n",
       "</table>\n",
       "</div>"
      ],
      "text/plain": [
       "   userId  tmdbId  rating\n",
       "0       1   862.0     4.0\n",
       "1       5   862.0     4.0\n",
       "2       7   862.0     4.5\n",
       "3      15   862.0     2.5\n",
       "4      17   862.0     4.5"
      ]
     },
     "execution_count": 2,
     "metadata": {},
     "output_type": "execute_result"
    }
   ],
   "source": [
    "data.head()"
   ]
  },
  {
   "cell_type": "markdown",
   "metadata": {},
   "source": [
    "# NMF"
   ]
  },
  {
   "cell_type": "code",
   "execution_count": 7,
   "metadata": {},
   "outputs": [
    {
     "name": "stdout",
     "output_type": "stream",
     "text": [
      "Your data has 610 distinct users and 2087 distinct items.\n",
      "Your data has been split into train and test set.\n",
      "Length of training set is 58850. Length of Test set is 7063\n",
      "Initializing features for Users and Items...\n",
      "Epoch Number: 1/20 Training RMSE: 0.97 Test RMSE: 1.0006482621991617\n",
      "Epoch Number: 2/20 Training RMSE: 0.87 Test RMSE: 0.9123033571180307\n",
      "Epoch Number: 3/20 Training RMSE: 0.91 Test RMSE: 0.9586874120704456\n",
      "Epoch Number: 4/20 Training RMSE: 0.84 Test RMSE: 0.8967454416636812\n",
      "Epoch Number: 5/20 Training RMSE: 0.88 Test RMSE: 0.9402026526352324\n",
      "Epoch Number: 6/20 Training RMSE: 0.82 Test RMSE: 0.8856406575144212\n",
      "Epoch Number: 7/20 Training RMSE: 0.86 Test RMSE: 0.925993093600419\n",
      "Epoch Number: 8/20 Training RMSE: 0.80 Test RMSE: 0.8770224040282751\n",
      "Epoch Number: 9/20 Training RMSE: 0.84 Test RMSE: 0.9144648556860356\n",
      "Epoch Number: 10/20 Training RMSE: 0.79 Test RMSE: 0.870294007385212\n",
      "Epoch Number: 11/20 Training RMSE: 0.82 Test RMSE: 0.904944710204353\n",
      "Epoch Number: 12/20 Training RMSE: 0.78 Test RMSE: 0.8650062413781665\n",
      "Epoch Number: 13/20 Training RMSE: 0.81 Test RMSE: 0.8969933372852634\n",
      "Epoch Number: 14/20 Training RMSE: 0.77 Test RMSE: 0.8608298125180048\n",
      "Epoch Number: 15/20 Training RMSE: 0.80 Test RMSE: 0.8902955536971052\n",
      "Epoch Number: 16/20 Training RMSE: 0.76 Test RMSE: 0.8575204854162842\n",
      "Epoch Number: 17/20 Training RMSE: 0.79 Test RMSE: 0.8846152545792989\n",
      "Epoch Number: 18/20 Training RMSE: 0.75 Test RMSE: 0.8548930809034563\n",
      "Epoch Number: 19/20 Training RMSE: 0.78 Test RMSE: 0.8797701668382975\n",
      "Epoch Number: 20/20 Training RMSE: 0.74 Test RMSE: 0.8528045427910734\n"
     ]
    }
   ],
   "source": [
    "nmf = NMF()\n",
    "nmf.set_hyperparameters(n_epochs=20, n_latent=15)\n",
    "nmf.fit(data.values)"
   ]
  },
  {
   "cell_type": "code",
   "execution_count": 9,
   "metadata": {},
   "outputs": [
    {
     "data": {
      "text/plain": [
       "['152584',\n",
       " '74534',\n",
       " '60243',\n",
       " '140420',\n",
       " '72976',\n",
       " '41439',\n",
       " '11687',\n",
       " '5925',\n",
       " '590',\n",
       " '51876']"
      ]
     },
     "execution_count": 9,
     "metadata": {},
     "output_type": "execute_result"
    }
   ],
   "source": [
    "nmf.get_recommendation_for_existing_user('1')"
   ]
  },
  {
   "cell_type": "markdown",
   "metadata": {},
   "source": [
    "# FunkSVD"
   ]
  },
  {
   "cell_type": "code",
   "execution_count": null,
   "metadata": {},
   "outputs": [
    {
     "name": "stdout",
     "output_type": "stream",
     "text": [
      "Your data has 610 distinct users and 2087 distinct items.\n",
      "Your data has been split into train and test set.\n",
      "Length of training set is 58850. Length of Test set is 7063\n",
      "Initializing features for Users and Items...\n",
      "Starting training...\n",
      "Epoch Number: 1/20 Training RMSE: 1.07 Test RMSE: 1.1303703987429325\n",
      "Epoch Number: 2/20 Training RMSE: 0.92 Test RMSE: 0.9900809083238985\n",
      "Epoch Number: 3/20 Training RMSE: 0.86 Test RMSE: 0.9331086784392099\n",
      "Epoch Number: 4/20 Training RMSE: 0.83 Test RMSE: 0.9054081291931158\n",
      "Epoch Number: 5/20 Training RMSE: 0.80 Test RMSE: 0.8900104979016826\n",
      "Epoch Number: 6/20 Training RMSE: 0.79 Test RMSE: 0.8803210648618953\n",
      "Epoch Number: 7/20 Training RMSE: 0.77 Test RMSE: 0.8735377123913216\n",
      "Epoch Number: 8/20 Training RMSE: 0.76 Test RMSE: 0.8683636067870912\n",
      "Epoch Number: 9/20 Training RMSE: 0.75 Test RMSE: 0.8641468520848251\n",
      "Epoch Number: 10/20 Training RMSE: 0.75 Test RMSE: 0.860536452061465\n",
      "Epoch Number: 11/20 Training RMSE: 0.74 Test RMSE: 0.8573337972515731\n",
      "Epoch Number: 12/20 Training RMSE: 0.73 Test RMSE: 0.8544230700384178\n",
      "Epoch Number: 13/20 Training RMSE: 0.72 Test RMSE: 0.8517358424797875\n",
      "Epoch Number: 14/20 Training RMSE: 0.71 Test RMSE: 0.8492315901039365\n",
      "Epoch Number: 15/20 Training RMSE: 0.71 Test RMSE: 0.8468862171935632\n"
     ]
    }
   ],
   "source": [
    "myFunk= FunkSVD()\n",
    "myFunk.set_hyperparameters(max_epoch=20, early_stopping=5, n_latent=45)\n",
    "myFunk.fit(data.values)"
   ]
  },
  {
   "cell_type": "code",
   "execution_count": null,
   "metadata": {},
   "outputs": [],
   "source": [
    "myFunk.get_recommendation_for_existing_user('1')"
   ]
  },
  {
   "cell_type": "code",
   "execution_count": null,
   "metadata": {
    "scrolled": true
   },
   "outputs": [],
   "source": [
    "myFunk.get_similar_products('10020')"
   ]
  },
  {
   "cell_type": "code",
   "execution_count": null,
   "metadata": {},
   "outputs": [],
   "source": [
    "myFunk.get_recommendation_for_new_user({'812':4})"
   ]
  },
  {
   "cell_type": "code",
   "execution_count": null,
   "metadata": {},
   "outputs": [],
   "source": [
    "myFunk.get_recommendation_for_new_user({'812':3})"
   ]
  },
  {
   "cell_type": "code",
   "execution_count": null,
   "metadata": {
    "scrolled": true
   },
   "outputs": [],
   "source": [
    "# Use this for random or grid search\n",
    "for each in range(1,11):\n",
    "    myFunk.set_hyperparameters(learning_rate= each*0.001)\n",
    "    myFunk.fit(data.values, search_parameter_space=True)"
   ]
  }
 ],
 "metadata": {
  "kernelspec": {
   "display_name": "Python 3",
   "language": "python",
   "name": "python3"
  },
  "language_info": {
   "codemirror_mode": {
    "name": "ipython",
    "version": 3
   },
   "file_extension": ".py",
   "mimetype": "text/x-python",
   "name": "python",
   "nbconvert_exporter": "python",
   "pygments_lexer": "ipython3",
   "version": "3.7.6"
  }
 },
 "nbformat": 4,
 "nbformat_minor": 4
}
